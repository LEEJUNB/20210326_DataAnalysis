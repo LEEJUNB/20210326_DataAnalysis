{
 "cells": [
  {
   "cell_type": "code",
   "execution_count": 1,
   "metadata": {},
   "outputs": [],
   "source": [
    "import pandas as pd\n",
    "import numpy as np\n",
    "import seaborn as sns"
   ]
  },
  {
   "cell_type": "code",
   "execution_count": 2,
   "metadata": {},
   "outputs": [
    {
     "data": {
      "text/plain": [
       "(91335, 39)"
      ]
     },
     "execution_count": 2,
     "metadata": {},
     "output_type": "execute_result"
    }
   ],
   "source": [
    "import matplotlib.pyplot as plt\n",
    "\n",
    "# plt로 폰트설정 window hangeul setting\n",
    "plt.rc('font',family=\"Malgun Gothic\")\n",
    "\n",
    "#폰트깨짐방지 unicode_minus=False\n",
    "plt.rc('axes',unicode_minus=False)\n",
    "\n",
    "# 그래프가 선명하게 보이도록\n",
    "%matplotlib inline\n",
    "\n",
    "# 글씨를 선명하게 보기 위해 retina 설정\n",
    "from IPython.display import set_matplotlib_formats\n",
    "\n",
    "set_matplotlib_formats('retina')\n",
    "\n",
    "# encoding=\"cp949\" 넣으면오류나는이유?\n",
    "# type이 mix되어 있기에 low_memory=False를 set해줌\n",
    "df = pd.read_csv(\"data/의료기관_201909.csv\",low_memory=False)\n",
    "df.shape # 행과 열의 데이터크기"
   ]
  },
  {
   "cell_type": "code",
   "execution_count": null,
   "metadata": {},
   "outputs": [],
   "source": []
  }
 ],
 "metadata": {
  "hide_input": false,
  "kernelspec": {
   "display_name": "Python 3",
   "language": "python",
   "name": "python3"
  },
  "language_info": {
   "codemirror_mode": {
    "name": "ipython",
    "version": 3
   },
   "file_extension": ".py",
   "mimetype": "text/x-python",
   "name": "python",
   "nbconvert_exporter": "python",
   "pygments_lexer": "ipython3",
   "version": "3.8.3"
  }
 },
 "nbformat": 4,
 "nbformat_minor": 2
}
