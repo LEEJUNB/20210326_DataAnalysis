{
 "cells": [
  {
   "cell_type": "markdown",
   "metadata": {},
   "source": [
    "## 다운받은 csv파일 이동"
   ]
  },
  {
   "cell_type": "code",
   "execution_count": 13,
   "metadata": {},
   "outputs": [
    {
     "name": "stdout",
     "output_type": "stream",
     "text": [
      "        1개 파일을 이동했습니다.\n"
     ]
    }
   ],
   "source": [
    "!move C:\\Users\\topgu\\Downloads\\주택도시보증공사_전국평균분양가격(2019년12월).csv"
   ]
  },
  {
   "cell_type": "code",
   "execution_count": 15,
   "metadata": {},
   "outputs": [
    {
     "name": "stdout",
     "output_type": "stream",
     "text": [
      "        1개 파일을 이동했습니다.\n"
     ]
    }
   ],
   "source": [
    "# 다운로드폴더에 있는 csv파일을 이 파일의 하단 폴더인 data폴더로 이동\n",
    "!move C:\\Users\\topgu\\Downloads\\전국평균분양가격(2013년9월부터2015년8월까지).csv data"
   ]
  },
  {
   "cell_type": "code",
   "execution_count": 4,
   "metadata": {},
   "outputs": [
    {
     "name": "stdout",
     "output_type": "stream",
     "text": [
      " C 드라이브의 볼륨에는 이름이 없습니다.\n",
      " 볼륨 일련 번호: 88EF-1D14\n",
      "\n",
      " C:\\Users\\topgu\\2.workplace\\PublicData_Analysis\\Apartment\\data 디렉터리\n",
      "\n",
      "2021-02-13  오후 10:46    <DIR>          .\n",
      "2021-02-13  오후 10:46    <DIR>          ..\n",
      "               0개 파일                   0 바이트\n",
      "               2개 디렉터리  229,040,119,808 바이트 남음\n"
     ]
    }
   ],
   "source": [
    "%ls data"
   ]
  },
  {
   "cell_type": "code",
   "execution_count": null,
   "metadata": {},
   "outputs": [],
   "source": []
  }
 ],
 "metadata": {
  "kernelspec": {
   "display_name": "Python 3",
   "language": "python",
   "name": "python3"
  },
  "language_info": {
   "codemirror_mode": {
    "name": "ipython",
    "version": 3
   },
   "file_extension": ".py",
   "mimetype": "text/x-python",
   "name": "python",
   "nbconvert_exporter": "python",
   "pygments_lexer": "ipython3",
   "version": "3.8.3"
  }
 },
 "nbformat": 4,
 "nbformat_minor": 4
}
